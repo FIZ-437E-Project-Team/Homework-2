{
  "nbformat": 4,
  "nbformat_minor": 0,
  "metadata": {
    "colab": {
      "name": "Log_Reg",
      "provenance": [],
      "authorship_tag": "ABX9TyMTvfdBY59URuilJElsRDYE"
    },
    "kernelspec": {
      "name": "python3",
      "display_name": "Python 3"
    },
    "language_info": {
      "name": "python"
    }
  },
  "cells": [
    {
      "cell_type": "code",
      "metadata": {
        "colab": {
          "base_uri": "https://localhost:8080/"
        },
        "id": "HpExDCn3w3Ns",
        "outputId": "c5ff6ee5-d34d-4474-aa5b-594487f37b2c"
      },
      "source": [
        "import torch\n",
        "import torch.nn as nn\n",
        "import torchvision\n",
        "import torchvision.transforms as transforms\n",
        "\n",
        "\n",
        "input_size = 28 * 28    # 784\n",
        "num_classes = 10\n",
        "num_epochs = 5\n",
        "batch_size = 100\n",
        "learning_rate = 0.001\n",
        "\n",
        "train_dataset = torchvision.datasets.MNIST(root='../../data', \n",
        "                                           train=True, \n",
        "                                           transform=transforms.ToTensor(),\n",
        "                                           download=True)\n",
        "\n",
        "test_dataset = torchvision.datasets.MNIST(root='../../data', \n",
        "                                          train=False, \n",
        "                                          transform=transforms.ToTensor())\n",
        "\n",
        "train_loader = torch.utils.data.DataLoader(dataset=train_dataset, \n",
        "                                           batch_size=batch_size, \n",
        "                                           shuffle=True)\n",
        "\n",
        "test_loader = torch.utils.data.DataLoader(dataset=test_dataset, \n",
        "                                          batch_size=batch_size, \n",
        "                                          shuffle=False)\n",
        "\n",
        "model = nn.Linear(input_size, num_classes)\n",
        "\n",
        "\n",
        "criterion = nn.CrossEntropyLoss()  \n",
        "optimizer = torch.optim.SGD(model.parameters(), lr=learning_rate)  \n",
        "\n",
        "total_step = len(train_loader)\n",
        "for epoch in range(num_epochs):\n",
        "    for i, (images, labels) in enumerate(train_loader):\n",
        "        # Reshape images to (batch_size, input_size)\n",
        "        images = images.reshape(-1, input_size)\n",
        "        \n",
        "        # Forward pass\n",
        "        outputs = model(images)\n",
        "        loss = criterion(outputs, labels)\n",
        "        \n",
        "        # Backward and optimize\n",
        "        optimizer.zero_grad()\n",
        "        loss.backward()\n",
        "        optimizer.step()\n",
        "        \n",
        "        if (i+1) % 100 == 0:\n",
        "            print ('Epoch [{}/{}], Step [{}/{}], Loss: {:.4f}' \n",
        "                   .format(epoch+1, num_epochs, i+1, total_step, loss.item()))\n",
        "\n",
        "with torch.no_grad():\n",
        "    correct = 0\n",
        "    total = 0\n",
        "    for images, labels in test_loader:\n",
        "        images = images.reshape(-1, input_size)\n",
        "        outputs = model(images)\n",
        "        _, predicted = torch.max(outputs.data, 1)\n",
        "        total += labels.size(0)\n",
        "        correct += (predicted == labels).sum()\n",
        "\n",
        "    print('Accuracy of the model on the 10000 test images: {} %'.format(100 * correct / total))\n",
        "\n",
        "torch.save(model.state_dict(), 'model.ckpt')"
      ],
      "execution_count": 2,
      "outputs": [
        {
          "output_type": "stream",
          "name": "stdout",
          "text": [
            "Epoch [1/5], Step [100/600], Loss: 2.2410\n",
            "Epoch [1/5], Step [200/600], Loss: 2.1540\n",
            "Epoch [1/5], Step [300/600], Loss: 2.0273\n",
            "Epoch [1/5], Step [400/600], Loss: 1.9239\n",
            "Epoch [1/5], Step [500/600], Loss: 1.8914\n",
            "Epoch [1/5], Step [600/600], Loss: 1.7800\n",
            "Epoch [2/5], Step [100/600], Loss: 1.7434\n",
            "Epoch [2/5], Step [200/600], Loss: 1.7519\n",
            "Epoch [2/5], Step [300/600], Loss: 1.6723\n",
            "Epoch [2/5], Step [400/600], Loss: 1.5830\n",
            "Epoch [2/5], Step [500/600], Loss: 1.5484\n",
            "Epoch [2/5], Step [600/600], Loss: 1.5298\n",
            "Epoch [3/5], Step [100/600], Loss: 1.4198\n",
            "Epoch [3/5], Step [200/600], Loss: 1.3935\n",
            "Epoch [3/5], Step [300/600], Loss: 1.4127\n",
            "Epoch [3/5], Step [400/600], Loss: 1.3066\n",
            "Epoch [3/5], Step [500/600], Loss: 1.3521\n",
            "Epoch [3/5], Step [600/600], Loss: 1.2321\n",
            "Epoch [4/5], Step [100/600], Loss: 1.1841\n",
            "Epoch [4/5], Step [200/600], Loss: 1.1338\n",
            "Epoch [4/5], Step [300/600], Loss: 1.2776\n",
            "Epoch [4/5], Step [400/600], Loss: 1.1546\n",
            "Epoch [4/5], Step [500/600], Loss: 1.1245\n",
            "Epoch [4/5], Step [600/600], Loss: 1.1584\n",
            "Epoch [5/5], Step [100/600], Loss: 1.0347\n",
            "Epoch [5/5], Step [200/600], Loss: 0.9926\n",
            "Epoch [5/5], Step [300/600], Loss: 1.0725\n",
            "Epoch [5/5], Step [400/600], Loss: 1.0532\n",
            "Epoch [5/5], Step [500/600], Loss: 1.0322\n",
            "Epoch [5/5], Step [600/600], Loss: 0.9162\n",
            "Accuracy of the model on the 10000 test images: 83.13999938964844 %\n"
          ]
        }
      ]
    }
  ]
}
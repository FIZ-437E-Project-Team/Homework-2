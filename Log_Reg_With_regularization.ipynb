{
  "nbformat": 4,
  "nbformat_minor": 0,
  "metadata": {
    "colab": {
      "name": "Log_Reg_With_regularization",
      "provenance": [],
      "authorship_tag": "ABX9TyMirahIekY1IHyiGw/p4pdI",
      "include_colab_link": true
    },
    "kernelspec": {
      "name": "python3",
      "display_name": "Python 3"
    },
    "language_info": {
      "name": "python"
    }
  },
  "cells": [
    {
      "cell_type": "markdown",
      "metadata": {
        "id": "view-in-github",
        "colab_type": "text"
      },
      "source": [
        "<a href=\"https://colab.research.google.com/github/FIZ-437E-Project-Team/Homework-2/blob/main/Log_Reg_With_regularization.ipynb\" target=\"_parent\"><img src=\"https://colab.research.google.com/assets/colab-badge.svg\" alt=\"Open In Colab\"/></a>"
      ]
    },
    {
      "cell_type": "code",
      "metadata": {
        "colab": {
          "base_uri": "https://localhost:8080/"
        },
        "id": "7mIBo417vCMR",
        "outputId": "258f17d6-fdfe-4711-9a33-4ed253dabe6a"
      },
      "source": [
        "import torch\n",
        "import torch.nn as nn\n",
        "import torchvision\n",
        "import torchvision.transforms as transforms\n",
        "\n",
        "\n",
        "input_size = 28 * 28    # 784\n",
        "num_classes = 10\n",
        "num_epochs = 5\n",
        "batch_size = 100\n",
        "learning_rate = 0.001\n",
        "\n",
        "train_dataset = torchvision.datasets.MNIST(root='../../data', \n",
        "                                           train=True, \n",
        "                                           transform=transforms.ToTensor(),\n",
        "                                           download=True)\n",
        "\n",
        "test_dataset = torchvision.datasets.MNIST(root='../../data', \n",
        "                                          train=False, \n",
        "                                          transform=transforms.ToTensor())\n",
        "\n",
        "train_loader = torch.utils.data.DataLoader(dataset=train_dataset, \n",
        "                                           batch_size=batch_size, \n",
        "                                           shuffle=True)\n",
        "\n",
        "test_loader = torch.utils.data.DataLoader(dataset=test_dataset, \n",
        "                                          batch_size=batch_size, \n",
        "                                          shuffle=False)\n",
        "\n",
        "model = nn.Linear(input_size, num_classes)\n",
        "\n",
        "\n",
        "criterion = nn.CrossEntropyLoss()  \n",
        "optimizer = torch.optim.SGD(model.parameters(), lr=learning_rate, weight_decay=1e-5)  \n",
        "\n",
        "total_step = len(train_loader)\n",
        "for epoch in range(num_epochs):\n",
        "    for i, (images, labels) in enumerate(train_loader):\n",
        "        # Reshape images to (batch_size, input_size)\n",
        "        images = images.reshape(-1, input_size)\n",
        "        \n",
        "        # Forward pass\n",
        "        outputs = model(images)\n",
        "        loss = criterion(outputs, labels)\n",
        "        \n",
        "        # Backward and optimize\n",
        "        optimizer.zero_grad()\n",
        "        loss.backward()\n",
        "        optimizer.step()\n",
        "        \n",
        "        if (i+1) % 100 == 0:\n",
        "            print ('Epoch [{}/{}], Step [{}/{}], Loss: {:.4f}' \n",
        "                   .format(epoch+1, num_epochs, i+1, total_step, loss.item()))\n",
        "\n",
        "with torch.no_grad():\n",
        "    correct = 0\n",
        "    total = 0\n",
        "    for images, labels in test_loader:\n",
        "        images = images.reshape(-1, input_size)\n",
        "        outputs = model(images)\n",
        "        _, predicted = torch.max(outputs.data, 1)\n",
        "        total += labels.size(0)\n",
        "        correct += (predicted == labels).sum()\n",
        "\n",
        "    print('Accuracy of the model on the 10000 test images: {} %'.format(100 * correct / total))\n",
        "\n",
        "torch.save(model.state_dict(), 'model.ckpt')"
      ],
      "execution_count": 5,
      "outputs": [
        {
          "output_type": "stream",
          "name": "stdout",
          "text": [
            "Epoch [1/5], Step [100/600], Loss: 2.1896\n",
            "Epoch [1/5], Step [200/600], Loss: 2.0651\n",
            "Epoch [1/5], Step [300/600], Loss: 1.9951\n",
            "Epoch [1/5], Step [400/600], Loss: 1.9148\n",
            "Epoch [1/5], Step [500/600], Loss: 1.8624\n",
            "Epoch [1/5], Step [600/600], Loss: 1.8060\n",
            "Epoch [2/5], Step [100/600], Loss: 1.7042\n",
            "Epoch [2/5], Step [200/600], Loss: 1.6384\n",
            "Epoch [2/5], Step [300/600], Loss: 1.5374\n",
            "Epoch [2/5], Step [400/600], Loss: 1.4958\n",
            "Epoch [2/5], Step [500/600], Loss: 1.5105\n",
            "Epoch [2/5], Step [600/600], Loss: 1.4226\n",
            "Epoch [3/5], Step [100/600], Loss: 1.4888\n",
            "Epoch [3/5], Step [200/600], Loss: 1.3583\n",
            "Epoch [3/5], Step [300/600], Loss: 1.3712\n",
            "Epoch [3/5], Step [400/600], Loss: 1.2639\n",
            "Epoch [3/5], Step [500/600], Loss: 1.2952\n",
            "Epoch [3/5], Step [600/600], Loss: 1.2500\n",
            "Epoch [4/5], Step [100/600], Loss: 1.1863\n",
            "Epoch [4/5], Step [200/600], Loss: 1.1187\n",
            "Epoch [4/5], Step [300/600], Loss: 1.0993\n",
            "Epoch [4/5], Step [400/600], Loss: 1.0107\n",
            "Epoch [4/5], Step [500/600], Loss: 1.1194\n",
            "Epoch [4/5], Step [600/600], Loss: 1.0343\n",
            "Epoch [5/5], Step [100/600], Loss: 1.0972\n",
            "Epoch [5/5], Step [200/600], Loss: 0.9908\n",
            "Epoch [5/5], Step [300/600], Loss: 1.0298\n",
            "Epoch [5/5], Step [400/600], Loss: 1.0650\n",
            "Epoch [5/5], Step [500/600], Loss: 0.9827\n",
            "Epoch [5/5], Step [600/600], Loss: 1.0094\n",
            "Accuracy of the model on the 10000 test images: 82.3499984741211 %\n"
          ]
        }
      ]
    }
  ]
}